{
 "cells": [
  {
   "cell_type": "markdown",
   "id": "7787a6fb89227345",
   "metadata": {},
   "source": [
    "# Wprowadzenie do LLM i Gradio"
   ]
  },
  {
   "cell_type": "code",
   "execution_count": null,
   "id": "8c80035c",
   "metadata": {},
   "outputs": [],
   "source": [
    "%pip install python-dotenv openai gradio"
   ]
  },
  {
   "cell_type": "markdown",
   "id": "866b1474b9f6431b",
   "metadata": {},
   "source": [
    "## Najprostsze użycie LLM"
   ]
  },
  {
   "cell_type": "code",
   "execution_count": 4,
   "id": "b24044ccf9b884fb",
   "metadata": {},
   "outputs": [
    {
     "data": {
      "text/plain": [
       "'Cześć! W czym mogę pomóc?'"
      ]
     },
     "execution_count": 4,
     "metadata": {},
     "output_type": "execute_result"
    }
   ],
   "source": [
    "import os\n",
    "\n",
    "from dotenv import load_dotenv\n",
    "from openai import OpenAI\n",
    "\n",
    "load_dotenv('../.env')\n",
    "client = OpenAI(api_key=os.getenv('OPENAI_API_KEY'))\n",
    "\n",
    "def chat_with_model(user_prompt):\n",
    "    response = client.chat.completions.create(\n",
    "        model='gpt-3.5-turbo',\n",
    "        messages=[\n",
    "            {\"role\": \"system\",\n",
    "             \"content\": \"Jesteś pomocnym asystentem. Odpowiedź zwięźle i na temat.\"},\n",
    "            {\"role\": \"user\", \"content\": user_prompt},\n",
    "        ],\n",
    "    )\n",
    "\n",
    "    return response.choices[0].message.content\n",
    "\n",
    "chat_with_model(\"hej\")"
   ]
  },
  {
   "cell_type": "markdown",
   "id": "fd5a9830dad9f5d6",
   "metadata": {},
   "source": [
    "## Gradio pomocne w budowaniu UI"
   ]
  },
  {
   "cell_type": "code",
   "execution_count": 8,
   "id": "5e07c4f7-6f00-4f43-a5a0-9d4b6b7623c4",
   "metadata": {},
   "outputs": [
    {
     "name": "stderr",
     "output_type": "stream",
     "text": [
      "c:\\Users\\m\\projects\\tech-summit\\.venv\\Lib\\site-packages\\tqdm\\auto.py:21: TqdmWarning: IProgress not found. Please update jupyter and ipywidgets. See https://ipywidgets.readthedocs.io/en/stable/user_install.html\n",
      "  from .autonotebook import tqdm as notebook_tqdm\n"
     ]
    },
    {
     "name": "stdout",
     "output_type": "stream",
     "text": [
      "* Running on local URL:  http://127.0.0.1:7860\n",
      "* To create a public link, set `share=True` in `launch()`.\n"
     ]
    },
    {
     "data": {
      "text/html": [
       "<div><iframe src=\"http://127.0.0.1:7860/\" width=\"100%\" height=\"500\" allow=\"autoplay; camera; microphone; clipboard-read; clipboard-write;\" frameborder=\"0\" allowfullscreen></iframe></div>"
      ],
      "text/plain": [
       "<IPython.core.display.HTML object>"
      ]
     },
     "metadata": {},
     "output_type": "display_data"
    },
    {
     "data": {
      "text/plain": []
     },
     "execution_count": 8,
     "metadata": {},
     "output_type": "execute_result"
    }
   ],
   "source": [
    "import gradio as gr\n",
    "\n",
    "try:\n",
    "    demo.close()\n",
    "except NameError:\n",
    "    pass\n",
    "demo = gr.Interface(fn=chat_with_model, inputs=\"textbox\", outputs=\"textbox\")\n",
    "demo.launch()"
   ]
  }
 ],
 "metadata": {
  "kernelspec": {
   "display_name": ".venv",
   "language": "python",
   "name": "python3"
  },
  "language_info": {
   "codemirror_mode": {
    "name": "ipython",
    "version": 3
   },
   "file_extension": ".py",
   "mimetype": "text/x-python",
   "name": "python",
   "nbconvert_exporter": "python",
   "pygments_lexer": "ipython3",
   "version": "3.13.3"
  }
 },
 "nbformat": 4,
 "nbformat_minor": 5
}
